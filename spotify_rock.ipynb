{
 "cells": [
  {
   "cell_type": "code",
   "execution_count": null,
   "id": "d824f94b",
   "metadata": {},
   "outputs": [],
   "source": [
    "#Vou precisar utilizar o clustering\n",
    "''''\n",
    "Não-supervisionado: você não tem a “resposta”, os dados não possuem rótulos e você não sabe como o resultado vai ser. \n",
    "O algoritmo vai identificar padrões e categorias dentro do conjunto de dados.\n",
    "\n",
    "Clustering: são utilizados para criar agrupamentos “escondidos” nos dados, por exemplo, agrupar filmes por gênero, \n",
    "clientes por comportamento de compra (tipo de produto, por exemplo), pessoas usuárias por estilo musical. \n",
    "É utilizado para criar sistemas de recomendação de serviços de streaming de música ou séries, por exemplo.\n",
    "''''\n",
    "\n",
    "#Instruções do Mineda:\n",
    "''''\n",
    "Escolha uma tarefa de aprendizagem de máquina:\n",
    "• Classificação\n",
    "• Regressão\n",
    "• Agrupamento (Clustering)\n",
    "• Series Temporais\n",
    "• Escolha, no mínimo, dois algoritmos para aplicar ao problema\n",
    "• Exemplo: Para uma tarefa de classificação que pretende identificar que\n",
    "alunos irão evadir da Fatec, você resolve utilizar Redes Neurais e Árvore de\n",
    "Decisão\n",
    "''''"
   ]
  },
  {
   "cell_type": "code",
   "execution_count": 1,
   "id": "34618dec",
   "metadata": {},
   "outputs": [
    {
     "name": "stdout",
     "output_type": "stream",
     "text": [
      "Requirement already satisfied: opendatasets in /Users/anabeatrizleite/opt/anaconda3/lib/python3.9/site-packages (0.1.22)\n",
      "Requirement already satisfied: kaggle in /Users/anabeatrizleite/opt/anaconda3/lib/python3.9/site-packages (from opendatasets) (1.5.12)\n",
      "Requirement already satisfied: tqdm in /Users/anabeatrizleite/opt/anaconda3/lib/python3.9/site-packages (from opendatasets) (4.64.0)\n",
      "Requirement already satisfied: click in /Users/anabeatrizleite/opt/anaconda3/lib/python3.9/site-packages (from opendatasets) (8.0.4)\n",
      "Requirement already satisfied: python-dateutil in /Users/anabeatrizleite/opt/anaconda3/lib/python3.9/site-packages (from kaggle->opendatasets) (2.8.2)\n",
      "Requirement already satisfied: six>=1.10 in /Users/anabeatrizleite/opt/anaconda3/lib/python3.9/site-packages (from kaggle->opendatasets) (1.16.0)\n",
      "Requirement already satisfied: certifi in /Users/anabeatrizleite/opt/anaconda3/lib/python3.9/site-packages (from kaggle->opendatasets) (2021.10.8)\n",
      "Requirement already satisfied: python-slugify in /Users/anabeatrizleite/opt/anaconda3/lib/python3.9/site-packages (from kaggle->opendatasets) (5.0.2)\n",
      "Requirement already satisfied: requests in /Users/anabeatrizleite/opt/anaconda3/lib/python3.9/site-packages (from kaggle->opendatasets) (2.27.1)\n",
      "Requirement already satisfied: urllib3 in /Users/anabeatrizleite/opt/anaconda3/lib/python3.9/site-packages (from kaggle->opendatasets) (1.26.9)\n",
      "Requirement already satisfied: text-unidecode>=1.3 in /Users/anabeatrizleite/opt/anaconda3/lib/python3.9/site-packages (from python-slugify->kaggle->opendatasets) (1.3)\n",
      "Requirement already satisfied: idna<4,>=2.5 in /Users/anabeatrizleite/opt/anaconda3/lib/python3.9/site-packages (from requests->kaggle->opendatasets) (3.3)\n",
      "Requirement already satisfied: charset-normalizer~=2.0.0 in /Users/anabeatrizleite/opt/anaconda3/lib/python3.9/site-packages (from requests->kaggle->opendatasets) (2.0.4)\n"
     ]
    }
   ],
   "source": [
    "!pip install opendatasets"
   ]
  },
  {
   "cell_type": "code",
   "execution_count": 2,
   "id": "33252458-56f4-4679-abda-1c1a48dea5fa",
   "metadata": {},
   "outputs": [],
   "source": [
    "import numpy as np\n",
    "import pandas as pd\n",
    "import opendatasets as od"
   ]
  },
  {
   "cell_type": "code",
   "execution_count": 3,
   "id": "71aaa2bc-da03-4a2f-9632-bf72016011c3",
   "metadata": {},
   "outputs": [
    {
     "name": "stdout",
     "output_type": "stream",
     "text": [
      "Skipping, found downloaded files in \"./popularity-of-spotify-top-tracks-by-genre\" (use force=True to force download)\n"
     ]
    }
   ],
   "source": [
    "od.download(\"https://www.kaggle.com/datasets/thedevastator/popularity-of-spotify-top-tracks-by-genre\")"
   ]
  },
  {
   "cell_type": "code",
   "execution_count": 16,
   "id": "52af1f6a-22c6-4aa4-ad3b-d9628f2fd968",
   "metadata": {},
   "outputs": [],
   "source": [
    "rock_tracks_data_csv = pd.read_csv('data/rock_playlist_tracks_data.csv')\n",
    "\n",
    "#print(rock_tracks_csv)\n",
    "rtd = rock_tracks_data_csv.head()"
   ]
  },
  {
   "cell_type": "code",
   "execution_count": 5,
   "id": "2368c57c",
   "metadata": {},
   "outputs": [],
   "source": [
    "rock_playlist_track_csv = pd.read_csv('data/rock_playlist_tracks.csv')\n",
    "rpt = rock_playlist_track_csv.head()"
   ]
  },
  {
   "cell_type": "code",
   "execution_count": 17,
   "id": "09f11e6d",
   "metadata": {},
   "outputs": [
    {
     "data": {
      "text/html": [
       "<div>\n",
       "<style scoped>\n",
       "    .dataframe tbody tr th:only-of-type {\n",
       "        vertical-align: middle;\n",
       "    }\n",
       "\n",
       "    .dataframe tbody tr th {\n",
       "        vertical-align: top;\n",
       "    }\n",
       "\n",
       "    .dataframe thead th {\n",
       "        text-align: right;\n",
       "    }\n",
       "</style>\n",
       "<table border=\"1\" class=\"dataframe\">\n",
       "  <thead>\n",
       "    <tr style=\"text-align: right;\">\n",
       "      <th></th>\n",
       "      <th>Unnamed: 0</th>\n",
       "      <th>track_id</th>\n",
       "      <th>track_name</th>\n",
       "      <th>artist_id</th>\n",
       "      <th>artist_name</th>\n",
       "      <th>album_id</th>\n",
       "      <th>duration</th>\n",
       "      <th>release_date</th>\n",
       "      <th>popularity</th>\n",
       "      <th>danceability</th>\n",
       "      <th>...</th>\n",
       "      <th>loudness</th>\n",
       "      <th>mode</th>\n",
       "      <th>speechiness</th>\n",
       "      <th>acousticness</th>\n",
       "      <th>instrumentalness</th>\n",
       "      <th>liveness</th>\n",
       "      <th>valence</th>\n",
       "      <th>tempo</th>\n",
       "      <th>playlist_id</th>\n",
       "      <th>playlist_name</th>\n",
       "    </tr>\n",
       "  </thead>\n",
       "  <tbody>\n",
       "    <tr>\n",
       "      <th>0</th>\n",
       "      <td>0</td>\n",
       "      <td>57JVGBtBLCfHw2muk5416J</td>\n",
       "      <td>Another One Bites The Dust - Remastered 2011</td>\n",
       "      <td>1dfeR4HaWDbWqFHLkxsg1d</td>\n",
       "      <td>Queen</td>\n",
       "      <td>6wPXUmYJ9mOWrKlLzZ5cCa</td>\n",
       "      <td>214653</td>\n",
       "      <td>1980-06-27</td>\n",
       "      <td>74</td>\n",
       "      <td>0.933</td>\n",
       "      <td>...</td>\n",
       "      <td>-6.472</td>\n",
       "      <td>0</td>\n",
       "      <td>0.162</td>\n",
       "      <td>0.112</td>\n",
       "      <td>0.32900</td>\n",
       "      <td>0.163</td>\n",
       "      <td>0.756</td>\n",
       "      <td>109.975</td>\n",
       "      <td>37i9dQZF1DWXRqgorJj26U</td>\n",
       "      <td>Rock Classics</td>\n",
       "    </tr>\n",
       "    <tr>\n",
       "      <th>1</th>\n",
       "      <td>1</td>\n",
       "      <td>57JVGBtBLCfHw2muk5416J</td>\n",
       "      <td>Another One Bites The Dust - Remastered 2011</td>\n",
       "      <td>1dfeR4HaWDbWqFHLkxsg1d</td>\n",
       "      <td>Queen</td>\n",
       "      <td>6wPXUmYJ9mOWrKlLzZ5cCa</td>\n",
       "      <td>214653</td>\n",
       "      <td>1980-06-27</td>\n",
       "      <td>74</td>\n",
       "      <td>0.933</td>\n",
       "      <td>...</td>\n",
       "      <td>-6.472</td>\n",
       "      <td>0</td>\n",
       "      <td>0.162</td>\n",
       "      <td>0.112</td>\n",
       "      <td>0.32900</td>\n",
       "      <td>0.163</td>\n",
       "      <td>0.756</td>\n",
       "      <td>109.975</td>\n",
       "      <td>37i9dQZF1DX1spT6G94GFC</td>\n",
       "      <td>80s Rock Anthems</td>\n",
       "    </tr>\n",
       "    <tr>\n",
       "      <th>2</th>\n",
       "      <td>2</td>\n",
       "      <td>57JVGBtBLCfHw2muk5416J</td>\n",
       "      <td>Another One Bites The Dust - Remastered 2011</td>\n",
       "      <td>1dfeR4HaWDbWqFHLkxsg1d</td>\n",
       "      <td>Queen</td>\n",
       "      <td>6wPXUmYJ9mOWrKlLzZ5cCa</td>\n",
       "      <td>214653</td>\n",
       "      <td>1980-06-27</td>\n",
       "      <td>74</td>\n",
       "      <td>0.933</td>\n",
       "      <td>...</td>\n",
       "      <td>-6.472</td>\n",
       "      <td>0</td>\n",
       "      <td>0.162</td>\n",
       "      <td>0.112</td>\n",
       "      <td>0.32900</td>\n",
       "      <td>0.163</td>\n",
       "      <td>0.756</td>\n",
       "      <td>109.975</td>\n",
       "      <td>3Ho3iO0iJykgEQNbjB2sic</td>\n",
       "      <td>Classic Rock 70s 80s 90s, Rock Classics - 70s ...</td>\n",
       "    </tr>\n",
       "    <tr>\n",
       "      <th>3</th>\n",
       "      <td>3</td>\n",
       "      <td>57JVGBtBLCfHw2muk5416J</td>\n",
       "      <td>Another One Bites The Dust - Remastered 2011</td>\n",
       "      <td>1dfeR4HaWDbWqFHLkxsg1d</td>\n",
       "      <td>Queen</td>\n",
       "      <td>6wPXUmYJ9mOWrKlLzZ5cCa</td>\n",
       "      <td>214653</td>\n",
       "      <td>1980-06-27</td>\n",
       "      <td>74</td>\n",
       "      <td>0.933</td>\n",
       "      <td>...</td>\n",
       "      <td>-6.472</td>\n",
       "      <td>0</td>\n",
       "      <td>0.162</td>\n",
       "      <td>0.112</td>\n",
       "      <td>0.32900</td>\n",
       "      <td>0.163</td>\n",
       "      <td>0.756</td>\n",
       "      <td>109.975</td>\n",
       "      <td>37i9dQZF1DX4vth7idTQch</td>\n",
       "      <td>Rockhymnen</td>\n",
       "    </tr>\n",
       "    <tr>\n",
       "      <th>4</th>\n",
       "      <td>4</td>\n",
       "      <td>2zYzyRzz6pRmhPzyfMEC8s</td>\n",
       "      <td>Highway to Hell</td>\n",
       "      <td>711MCceyCBcFnzjGY4Q7Un</td>\n",
       "      <td>AC/DC</td>\n",
       "      <td>10v912xgTZbjAtYfyKWJCS</td>\n",
       "      <td>208400</td>\n",
       "      <td>1979-07-27</td>\n",
       "      <td>84</td>\n",
       "      <td>0.574</td>\n",
       "      <td>...</td>\n",
       "      <td>-4.793</td>\n",
       "      <td>0</td>\n",
       "      <td>0.133</td>\n",
       "      <td>0.061</td>\n",
       "      <td>0.00158</td>\n",
       "      <td>0.156</td>\n",
       "      <td>0.423</td>\n",
       "      <td>115.728</td>\n",
       "      <td>37i9dQZF1DWXRqgorJj26U</td>\n",
       "      <td>Rock Classics</td>\n",
       "    </tr>\n",
       "  </tbody>\n",
       "</table>\n",
       "<p>5 rows × 22 columns</p>\n",
       "</div>"
      ],
      "text/plain": [
       "   Unnamed: 0                track_id  \\\n",
       "0           0  57JVGBtBLCfHw2muk5416J   \n",
       "1           1  57JVGBtBLCfHw2muk5416J   \n",
       "2           2  57JVGBtBLCfHw2muk5416J   \n",
       "3           3  57JVGBtBLCfHw2muk5416J   \n",
       "4           4  2zYzyRzz6pRmhPzyfMEC8s   \n",
       "\n",
       "                                     track_name               artist_id  \\\n",
       "0  Another One Bites The Dust - Remastered 2011  1dfeR4HaWDbWqFHLkxsg1d   \n",
       "1  Another One Bites The Dust - Remastered 2011  1dfeR4HaWDbWqFHLkxsg1d   \n",
       "2  Another One Bites The Dust - Remastered 2011  1dfeR4HaWDbWqFHLkxsg1d   \n",
       "3  Another One Bites The Dust - Remastered 2011  1dfeR4HaWDbWqFHLkxsg1d   \n",
       "4                               Highway to Hell  711MCceyCBcFnzjGY4Q7Un   \n",
       "\n",
       "  artist_name                album_id  duration release_date  popularity  \\\n",
       "0       Queen  6wPXUmYJ9mOWrKlLzZ5cCa    214653   1980-06-27          74   \n",
       "1       Queen  6wPXUmYJ9mOWrKlLzZ5cCa    214653   1980-06-27          74   \n",
       "2       Queen  6wPXUmYJ9mOWrKlLzZ5cCa    214653   1980-06-27          74   \n",
       "3       Queen  6wPXUmYJ9mOWrKlLzZ5cCa    214653   1980-06-27          74   \n",
       "4       AC/DC  10v912xgTZbjAtYfyKWJCS    208400   1979-07-27          84   \n",
       "\n",
       "   danceability  ...  loudness  mode  speechiness  acousticness  \\\n",
       "0         0.933  ...    -6.472     0        0.162         0.112   \n",
       "1         0.933  ...    -6.472     0        0.162         0.112   \n",
       "2         0.933  ...    -6.472     0        0.162         0.112   \n",
       "3         0.933  ...    -6.472     0        0.162         0.112   \n",
       "4         0.574  ...    -4.793     0        0.133         0.061   \n",
       "\n",
       "   instrumentalness  liveness  valence    tempo             playlist_id  \\\n",
       "0           0.32900     0.163    0.756  109.975  37i9dQZF1DWXRqgorJj26U   \n",
       "1           0.32900     0.163    0.756  109.975  37i9dQZF1DX1spT6G94GFC   \n",
       "2           0.32900     0.163    0.756  109.975  3Ho3iO0iJykgEQNbjB2sic   \n",
       "3           0.32900     0.163    0.756  109.975  37i9dQZF1DX4vth7idTQch   \n",
       "4           0.00158     0.156    0.423  115.728  37i9dQZF1DWXRqgorJj26U   \n",
       "\n",
       "                                       playlist_name  \n",
       "0                                      Rock Classics  \n",
       "1                                   80s Rock Anthems  \n",
       "2  Classic Rock 70s 80s 90s, Rock Classics - 70s ...  \n",
       "3                                         Rockhymnen  \n",
       "4                                      Rock Classics  \n",
       "\n",
       "[5 rows x 22 columns]"
      ]
     },
     "execution_count": 17,
     "metadata": {},
     "output_type": "execute_result"
    }
   ],
   "source": [
    "rock_tracks_data_csv.head()"
   ]
  },
  {
   "cell_type": "code",
   "execution_count": 6,
   "id": "c1e61e9f",
   "metadata": {},
   "outputs": [
    {
     "data": {
      "text/html": [
       "<div>\n",
       "<style scoped>\n",
       "    .dataframe tbody tr th:only-of-type {\n",
       "        vertical-align: middle;\n",
       "    }\n",
       "\n",
       "    .dataframe tbody tr th {\n",
       "        vertical-align: top;\n",
       "    }\n",
       "\n",
       "    .dataframe thead th {\n",
       "        text-align: right;\n",
       "    }\n",
       "</style>\n",
       "<table border=\"1\" class=\"dataframe\">\n",
       "  <thead>\n",
       "    <tr style=\"text-align: right;\">\n",
       "      <th></th>\n",
       "      <th>playlist_id</th>\n",
       "      <th>playlist_name</th>\n",
       "      <th>playlist_total_tracks</th>\n",
       "      <th>owner_id</th>\n",
       "      <th>owner_name</th>\n",
       "      <th>total_followers</th>\n",
       "    </tr>\n",
       "  </thead>\n",
       "  <tbody>\n",
       "    <tr>\n",
       "      <th>0</th>\n",
       "      <td>37i9dQZF1DWXRqgorJj26U</td>\n",
       "      <td>Rock Classics</td>\n",
       "      <td>173</td>\n",
       "      <td>spotify</td>\n",
       "      <td>Spotify</td>\n",
       "      <td>9810263</td>\n",
       "    </tr>\n",
       "    <tr>\n",
       "      <th>1</th>\n",
       "      <td>37i9dQZF1DX1rVvRgjX59F</td>\n",
       "      <td>90s Rock Anthems</td>\n",
       "      <td>100</td>\n",
       "      <td>spotify</td>\n",
       "      <td>Spotify</td>\n",
       "      <td>4555610</td>\n",
       "    </tr>\n",
       "    <tr>\n",
       "      <th>2</th>\n",
       "      <td>37i9dQZF1DX1spT6G94GFC</td>\n",
       "      <td>80s Rock Anthems</td>\n",
       "      <td>80</td>\n",
       "      <td>spotify</td>\n",
       "      <td>Spotify</td>\n",
       "      <td>2143197</td>\n",
       "    </tr>\n",
       "    <tr>\n",
       "      <th>3</th>\n",
       "      <td>37i9dQZF1DX2sUQwD7tbmL</td>\n",
       "      <td>Feel-Good Indie Rock</td>\n",
       "      <td>120</td>\n",
       "      <td>spotify</td>\n",
       "      <td>Spotify</td>\n",
       "      <td>1523552</td>\n",
       "    </tr>\n",
       "    <tr>\n",
       "      <th>4</th>\n",
       "      <td>37i9dQZF1EQpj7X7UK8OOF</td>\n",
       "      <td>Rock Mix</td>\n",
       "      <td>50</td>\n",
       "      <td>spotify</td>\n",
       "      <td>Spotify</td>\n",
       "      <td>1462897</td>\n",
       "    </tr>\n",
       "  </tbody>\n",
       "</table>\n",
       "</div>"
      ],
      "text/plain": [
       "              playlist_id         playlist_name  playlist_total_tracks  \\\n",
       "0  37i9dQZF1DWXRqgorJj26U         Rock Classics                    173   \n",
       "1  37i9dQZF1DX1rVvRgjX59F      90s Rock Anthems                    100   \n",
       "2  37i9dQZF1DX1spT6G94GFC      80s Rock Anthems                     80   \n",
       "3  37i9dQZF1DX2sUQwD7tbmL  Feel-Good Indie Rock                    120   \n",
       "4  37i9dQZF1EQpj7X7UK8OOF              Rock Mix                     50   \n",
       "\n",
       "  owner_id owner_name  total_followers  \n",
       "0  spotify    Spotify          9810263  \n",
       "1  spotify    Spotify          4555610  \n",
       "2  spotify    Spotify          2143197  \n",
       "3  spotify    Spotify          1523552  \n",
       "4  spotify    Spotify          1462897  "
      ]
     },
     "execution_count": 6,
     "metadata": {},
     "output_type": "execute_result"
    }
   ],
   "source": [
    "rock_playlist_data_csv = pd.read_csv('data/rock_playlist_data.csv')\n",
    "rock_playlist_data_csv.head()"
   ]
  },
  {
   "cell_type": "code",
   "execution_count": 7,
   "id": "b56fb3c2",
   "metadata": {},
   "outputs": [
    {
     "name": "stdout",
     "output_type": "stream",
     "text": [
      "Registros Rock Playlist Data: 97\n"
     ]
    }
   ],
   "source": [
    "print('Registros Rock Playlist Data: '+str(len(rock_playlist_data_csv)))"
   ]
  },
  {
   "cell_type": "code",
   "execution_count": 8,
   "id": "da9fc746",
   "metadata": {},
   "outputs": [
    {
     "name": "stdout",
     "output_type": "stream",
     "text": [
      "Registros Rock Track: 2132\n"
     ]
    }
   ],
   "source": [
    "print('Registros Rock Track: '+str(len(rock_playlist_track_csv)))"
   ]
  },
  {
   "cell_type": "code",
   "execution_count": 9,
   "id": "a2362174",
   "metadata": {},
   "outputs": [
    {
     "name": "stdout",
     "output_type": "stream",
     "text": [
      "Registros Track Data: 2131\n"
     ]
    }
   ],
   "source": [
    "print('Registros Track Data: '+str(len(rock_tracks_data_csv)))"
   ]
  },
  {
   "cell_type": "code",
   "execution_count": 10,
   "id": "4e3c4d94",
   "metadata": {},
   "outputs": [
    {
     "data": {
      "text/plain": [
       "['Rock Classics',\n",
       " '80s Rock Anthems',\n",
       " 'Classic Rock 70s 80s 90s, Rock Classics - 70s Rock, 80s Rock, 90s Rock, Rock Classicos',\n",
       " 'Rockhymnen',\n",
       " 'Rock Classics']"
      ]
     },
     "execution_count": 10,
     "metadata": {},
     "output_type": "execute_result"
    }
   ],
   "source": [
    "playlist_name_pd = rtd[\"playlist_name\"].tolist()\n",
    "playlist_name_pd"
   ]
  },
  {
   "cell_type": "code",
   "execution_count": 11,
   "id": "0b0c5224",
   "metadata": {},
   "outputs": [
    {
     "data": {
      "text/plain": [
       "['Rock Classics',\n",
       " 'Rock Classics',\n",
       " 'Rock Classics',\n",
       " 'Rock Classics',\n",
       " 'Rock Classics']"
      ]
     },
     "execution_count": 11,
     "metadata": {},
     "output_type": "execute_result"
    }
   ],
   "source": [
    "rock_playlist_track = rpt[\"playlist_name\"].tolist()\n",
    "rock_playlist_track"
   ]
  },
  {
   "cell_type": "code",
   "execution_count": 12,
   "id": "46714247",
   "metadata": {},
   "outputs": [
    {
     "ename": "NameError",
     "evalue": "name 'rock_tracks_csv' is not defined",
     "output_type": "error",
     "traceback": [
      "\u001b[0;31m---------------------------------------------------------------------------\u001b[0m",
      "\u001b[0;31mNameError\u001b[0m                                 Traceback (most recent call last)",
      "Input \u001b[0;32mIn [12]\u001b[0m, in \u001b[0;36m<cell line: 1>\u001b[0;34m()\u001b[0m\n\u001b[0;32m----> 1\u001b[0m \u001b[38;5;28mprint\u001b[39m(\u001b[43mrock_tracks_csv\u001b[49m\u001b[38;5;241m.\u001b[39misnull()\u001b[38;5;241m.\u001b[39msum())\n",
      "\u001b[0;31mNameError\u001b[0m: name 'rock_tracks_csv' is not defined"
     ]
    }
   ],
   "source": [
    "print(rock_tracks_csv.isnull().sum())"
   ]
  },
  {
   "cell_type": "code",
   "execution_count": 13,
   "id": "c331a3b7",
   "metadata": {},
   "outputs": [
    {
     "ename": "NameError",
     "evalue": "name 'rock_tracks_csv' is not defined",
     "output_type": "error",
     "traceback": [
      "\u001b[0;31m---------------------------------------------------------------------------\u001b[0m",
      "\u001b[0;31mNameError\u001b[0m                                 Traceback (most recent call last)",
      "Input \u001b[0;32mIn [13]\u001b[0m, in \u001b[0;36m<cell line: 1>\u001b[0;34m()\u001b[0m\n\u001b[0;32m----> 1\u001b[0m \u001b[38;5;28mprint\u001b[39m(\u001b[43mrock_tracks_csv\u001b[49m\u001b[38;5;241m.\u001b[39mdescribe())\n",
      "\u001b[0;31mNameError\u001b[0m: name 'rock_tracks_csv' is not defined"
     ]
    }
   ],
   "source": [
    "print(rock_tracks_csv.describe())"
   ]
  }
 ],
 "metadata": {
  "kernelspec": {
   "display_name": "Python 3 (ipykernel)",
   "language": "python",
   "name": "python3"
  },
  "language_info": {
   "codemirror_mode": {
    "name": "ipython",
    "version": 3
   },
   "file_extension": ".py",
   "mimetype": "text/x-python",
   "name": "python",
   "nbconvert_exporter": "python",
   "pygments_lexer": "ipython3",
   "version": "3.9.12"
  }
 },
 "nbformat": 4,
 "nbformat_minor": 5
}
